{
  "nbformat": 4,
  "nbformat_minor": 0,
  "metadata": {
    "colab": {
      "name": "monte.ipynb",
      "provenance": [],
      "collapsed_sections": []
    },
    "kernelspec": {
      "display_name": "Python 3",
      "name": "python3"
    },
    "language_info": {
      "name": "python"
    }
  },
  "cells": [
    {
      "cell_type": "markdown",
      "metadata": {
        "id": "Q0uswKFYBLmh"
      },
      "source": [
        "# **Numerical** **Example**"
      ]
    },
    {
      "cell_type": "markdown",
      "metadata": {
        "id": "xCxrY7vmC_N7"
      },
      "source": [
        "**Objectives**: \n",
        "\n",
        "1.   Use Monte Carlo methods to simulate theoretical future stock prices.\n",
        "2.   Observe the evolution of with profits accounting value provisions, i.e. $R_{t}+P_{t}$ with profits distributions $P_{t}>0 ~\\forall~t\\in [0,T]$.\n",
        "\n",
        "3.   Observe the evolution of with profits fair value provisions, i.e. $R_{t}^{r}+P_{t}$ with profits distributions $P_{t}>0 ~\\forall~t\\in [0,T]$.\n",
        "\n",
        "\n",
        "\n",
        "\n",
        "\n",
        "\n"
      ]
    },
    {
      "cell_type": "markdown",
      "metadata": {
        "id": "Toh6V0UtHWTo"
      },
      "source": [
        "To create a Monte Carlo simulator, we perform the following steps;\n",
        "\n",
        "\n",
        "*   Download closing prices of an asset.\n",
        "*   Find the periodic daily returns.\n",
        "\n",
        "\n",
        "*   We find the mean, variance, and standard deviation of the periodic daily returns.\n",
        "*   We create a formula of a drift plus a random stochastic offset i.e. Geometric Brownian motion governing risky assets in this context.\n",
        "\n",
        "\n",
        "\n"
      ]
    },
    {
      "cell_type": "markdown",
      "metadata": {
        "id": "wo49ZAMUSBto"
      },
      "source": [
        "First we import the necessary Libraries!"
      ]
    },
    {
      "cell_type": "code",
      "metadata": {
        "id": "YjaiUG5d6n3c"
      },
      "source": [
        "import pandas as pd # It has a DataFrame class that allows you to tabulate your data, i used this feature to extract the last Apple stock price. \n",
        "import datetime as dt # We need some dates for our time series data, so we are going to use the datetime module for that.\n",
        "import numpy as np # Allows us to work with arrays i.e. big data.\n",
        "import matplotlib.pyplot as plt # Provides MATLAB like plotting interface.\n",
        "import seaborn as sns # Just another python plotting package, it builds on matplotlib. It has nicer and fancier visualizations much like 'ggplot2' in R.\n",
        "sns.set() # Use a better set of defaults for our plots!"
      ],
      "execution_count": null,
      "outputs": []
    },
    {
      "cell_type": "markdown",
      "metadata": {
        "id": "6rNc77rZSegc"
      },
      "source": [
        "We specify the start date for the apple data set we want to download."
      ]
    },
    {
      "cell_type": "code",
      "metadata": {
        "id": "e0Yb5LHA62cr"
      },
      "source": [
        "start = dt.datetime(2010, 3, 1) # Specifying the start date for stock prices i will scrap from the internet, data is scrapped upto the current date of\n",
        "# running this code unless stated otherwise i.e. end date"
      ],
      "execution_count": null,
      "outputs": []
    },
    {
      "cell_type": "markdown",
      "metadata": {
        "id": "gO3Gnj7KSoSa"
      },
      "source": [
        "Installing yfinance, which is a yahoo module that will help us to download stock prices from the yahoo API."
      ]
    },
    {
      "cell_type": "code",
      "metadata": {
        "colab": {
          "base_uri": "https://localhost:8080/"
        },
        "id": "mNLNElYd68jU",
        "outputId": "84964a81-c35d-4821-9ceb-29aba53ec066"
      },
      "source": [
        "pip install yfinance "
      ],
      "execution_count": null,
      "outputs": [
        {
          "output_type": "stream",
          "text": [
            "Requirement already satisfied: yfinance in /usr/local/lib/python3.7/dist-packages (0.1.63)\n",
            "Requirement already satisfied: lxml>=4.5.1 in /usr/local/lib/python3.7/dist-packages (from yfinance) (4.6.3)\n",
            "Requirement already satisfied: requests>=2.20 in /usr/local/lib/python3.7/dist-packages (from yfinance) (2.23.0)\n",
            "Requirement already satisfied: numpy>=1.15 in /usr/local/lib/python3.7/dist-packages (from yfinance) (1.19.5)\n",
            "Requirement already satisfied: pandas>=0.24 in /usr/local/lib/python3.7/dist-packages (from yfinance) (1.1.5)\n",
            "Requirement already satisfied: multitasking>=0.0.7 in /usr/local/lib/python3.7/dist-packages (from yfinance) (0.0.9)\n",
            "Requirement already satisfied: pytz>=2017.2 in /usr/local/lib/python3.7/dist-packages (from pandas>=0.24->yfinance) (2018.9)\n",
            "Requirement already satisfied: python-dateutil>=2.7.3 in /usr/local/lib/python3.7/dist-packages (from pandas>=0.24->yfinance) (2.8.1)\n",
            "Requirement already satisfied: six>=1.5 in /usr/local/lib/python3.7/dist-packages (from python-dateutil>=2.7.3->pandas>=0.24->yfinance) (1.15.0)\n",
            "Requirement already satisfied: chardet<4,>=3.0.2 in /usr/local/lib/python3.7/dist-packages (from requests>=2.20->yfinance) (3.0.4)\n",
            "Requirement already satisfied: idna<3,>=2.5 in /usr/local/lib/python3.7/dist-packages (from requests>=2.20->yfinance) (2.10)\n",
            "Requirement already satisfied: urllib3!=1.25.0,!=1.25.1,<1.26,>=1.21.1 in /usr/local/lib/python3.7/dist-packages (from requests>=2.20->yfinance) (1.24.3)\n",
            "Requirement already satisfied: certifi>=2017.4.17 in /usr/local/lib/python3.7/dist-packages (from requests>=2.20->yfinance) (2021.5.30)\n"
          ],
          "name": "stdout"
        }
      ]
    },
    {
      "cell_type": "code",
      "metadata": {
        "id": "fvf4WCuz6_Pj"
      },
      "source": [
        "import yfinance as yf # Importing the module that has just been downloaded in the previous code cell."
      ],
      "execution_count": null,
      "outputs": []
    },
    {
      "cell_type": "markdown",
      "metadata": {
        "id": "r8c7XBQrS1kZ"
      },
      "source": [
        "Scipy.stats is a statistics module, it will help us with statistical work regarding normal distribution of the risky assets governed by $$\\frac{dS_{t}}{S_{t}}=\\mu dt+\\sigma dW_{t},$$ where $W_{t}$ is a Brownian motion. Particularly we want to use the method **norm.ppf()**, which takes a percentage and returns a standard deviation multiplier for what value that percentage occurs at under the normal probability distribution curve."
      ]
    },
    {
      "cell_type": "code",
      "metadata": {
        "id": "cBMHCwbXNvjC"
      },
      "source": [
        "from scipy.stats import norm "
      ],
      "execution_count": null,
      "outputs": []
    },
    {
      "cell_type": "markdown",
      "metadata": {
        "id": "QuWW8-_aTriC"
      },
      "source": [
        "We will use apple stocks as a data set with ticker name **'AAPL'**"
      ]
    },
    {
      "cell_type": "code",
      "metadata": {
        "colab": {
          "base_uri": "https://localhost:8080/",
          "height": 717
        },
        "id": "zNU0lzWlOWDg",
        "outputId": "b758e398-271f-4a94-d55f-ad8b4750a72d"
      },
      "source": [
        "df = yf.download('AAPL', start)# downloading 'AAPL', which is just the name under which apple stocks are listed on the NASDAQ\n",
        "prices = pd.DataFrame(df)\n",
        "prices.tail(20)"
      ],
      "execution_count": null,
      "outputs": [
        {
          "output_type": "stream",
          "text": [
            "\r[*********************100%***********************]  1 of 1 completed\n"
          ],
          "name": "stdout"
        },
        {
          "output_type": "execute_result",
          "data": {
            "text/html": [
              "<div>\n",
              "<style scoped>\n",
              "    .dataframe tbody tr th:only-of-type {\n",
              "        vertical-align: middle;\n",
              "    }\n",
              "\n",
              "    .dataframe tbody tr th {\n",
              "        vertical-align: top;\n",
              "    }\n",
              "\n",
              "    .dataframe thead th {\n",
              "        text-align: right;\n",
              "    }\n",
              "</style>\n",
              "<table border=\"1\" class=\"dataframe\">\n",
              "  <thead>\n",
              "    <tr style=\"text-align: right;\">\n",
              "      <th></th>\n",
              "      <th>Open</th>\n",
              "      <th>High</th>\n",
              "      <th>Low</th>\n",
              "      <th>Close</th>\n",
              "      <th>Adj Close</th>\n",
              "      <th>Volume</th>\n",
              "    </tr>\n",
              "    <tr>\n",
              "      <th>Date</th>\n",
              "      <th></th>\n",
              "      <th></th>\n",
              "      <th></th>\n",
              "      <th></th>\n",
              "      <th></th>\n",
              "      <th></th>\n",
              "    </tr>\n",
              "  </thead>\n",
              "  <tbody>\n",
              "    <tr>\n",
              "      <th>2021-07-09</th>\n",
              "      <td>142.750000</td>\n",
              "      <td>145.649994</td>\n",
              "      <td>142.649994</td>\n",
              "      <td>145.110001</td>\n",
              "      <td>145.110001</td>\n",
              "      <td>99788400</td>\n",
              "    </tr>\n",
              "    <tr>\n",
              "      <th>2021-07-12</th>\n",
              "      <td>146.210007</td>\n",
              "      <td>146.320007</td>\n",
              "      <td>144.000000</td>\n",
              "      <td>144.500000</td>\n",
              "      <td>144.500000</td>\n",
              "      <td>76299700</td>\n",
              "    </tr>\n",
              "    <tr>\n",
              "      <th>2021-07-13</th>\n",
              "      <td>144.029999</td>\n",
              "      <td>147.460007</td>\n",
              "      <td>143.630005</td>\n",
              "      <td>145.639999</td>\n",
              "      <td>145.639999</td>\n",
              "      <td>100827100</td>\n",
              "    </tr>\n",
              "    <tr>\n",
              "      <th>2021-07-14</th>\n",
              "      <td>148.100006</td>\n",
              "      <td>149.570007</td>\n",
              "      <td>147.679993</td>\n",
              "      <td>149.149994</td>\n",
              "      <td>149.149994</td>\n",
              "      <td>127050800</td>\n",
              "    </tr>\n",
              "    <tr>\n",
              "      <th>2021-07-15</th>\n",
              "      <td>149.240005</td>\n",
              "      <td>150.000000</td>\n",
              "      <td>147.089996</td>\n",
              "      <td>148.479996</td>\n",
              "      <td>148.479996</td>\n",
              "      <td>106820300</td>\n",
              "    </tr>\n",
              "    <tr>\n",
              "      <th>2021-07-16</th>\n",
              "      <td>148.460007</td>\n",
              "      <td>149.759995</td>\n",
              "      <td>145.880005</td>\n",
              "      <td>146.389999</td>\n",
              "      <td>146.389999</td>\n",
              "      <td>93100300</td>\n",
              "    </tr>\n",
              "    <tr>\n",
              "      <th>2021-07-19</th>\n",
              "      <td>143.750000</td>\n",
              "      <td>144.070007</td>\n",
              "      <td>141.669998</td>\n",
              "      <td>142.449997</td>\n",
              "      <td>142.449997</td>\n",
              "      <td>121434600</td>\n",
              "    </tr>\n",
              "    <tr>\n",
              "      <th>2021-07-20</th>\n",
              "      <td>143.460007</td>\n",
              "      <td>147.100006</td>\n",
              "      <td>142.960007</td>\n",
              "      <td>146.149994</td>\n",
              "      <td>146.149994</td>\n",
              "      <td>96350000</td>\n",
              "    </tr>\n",
              "    <tr>\n",
              "      <th>2021-07-21</th>\n",
              "      <td>145.529999</td>\n",
              "      <td>146.130005</td>\n",
              "      <td>144.630005</td>\n",
              "      <td>145.399994</td>\n",
              "      <td>145.399994</td>\n",
              "      <td>74993500</td>\n",
              "    </tr>\n",
              "    <tr>\n",
              "      <th>2021-07-22</th>\n",
              "      <td>145.940002</td>\n",
              "      <td>148.199997</td>\n",
              "      <td>145.809998</td>\n",
              "      <td>146.800003</td>\n",
              "      <td>146.800003</td>\n",
              "      <td>77338200</td>\n",
              "    </tr>\n",
              "    <tr>\n",
              "      <th>2021-07-23</th>\n",
              "      <td>147.550003</td>\n",
              "      <td>148.720001</td>\n",
              "      <td>146.919998</td>\n",
              "      <td>148.559998</td>\n",
              "      <td>148.559998</td>\n",
              "      <td>71447400</td>\n",
              "    </tr>\n",
              "    <tr>\n",
              "      <th>2021-07-26</th>\n",
              "      <td>148.270004</td>\n",
              "      <td>149.830002</td>\n",
              "      <td>147.699997</td>\n",
              "      <td>148.990005</td>\n",
              "      <td>148.990005</td>\n",
              "      <td>72434100</td>\n",
              "    </tr>\n",
              "    <tr>\n",
              "      <th>2021-07-27</th>\n",
              "      <td>149.119995</td>\n",
              "      <td>149.210007</td>\n",
              "      <td>145.550003</td>\n",
              "      <td>146.770004</td>\n",
              "      <td>146.770004</td>\n",
              "      <td>104818600</td>\n",
              "    </tr>\n",
              "    <tr>\n",
              "      <th>2021-07-28</th>\n",
              "      <td>144.809998</td>\n",
              "      <td>146.970001</td>\n",
              "      <td>142.539993</td>\n",
              "      <td>144.979996</td>\n",
              "      <td>144.979996</td>\n",
              "      <td>118931200</td>\n",
              "    </tr>\n",
              "    <tr>\n",
              "      <th>2021-07-29</th>\n",
              "      <td>144.690002</td>\n",
              "      <td>146.550003</td>\n",
              "      <td>144.580002</td>\n",
              "      <td>145.639999</td>\n",
              "      <td>145.639999</td>\n",
              "      <td>56699500</td>\n",
              "    </tr>\n",
              "    <tr>\n",
              "      <th>2021-07-30</th>\n",
              "      <td>144.380005</td>\n",
              "      <td>146.330002</td>\n",
              "      <td>144.110001</td>\n",
              "      <td>145.860001</td>\n",
              "      <td>145.860001</td>\n",
              "      <td>70382000</td>\n",
              "    </tr>\n",
              "    <tr>\n",
              "      <th>2021-08-02</th>\n",
              "      <td>146.360001</td>\n",
              "      <td>146.949997</td>\n",
              "      <td>145.250000</td>\n",
              "      <td>145.520004</td>\n",
              "      <td>145.520004</td>\n",
              "      <td>62880000</td>\n",
              "    </tr>\n",
              "    <tr>\n",
              "      <th>2021-08-03</th>\n",
              "      <td>145.809998</td>\n",
              "      <td>148.039993</td>\n",
              "      <td>145.179993</td>\n",
              "      <td>147.360001</td>\n",
              "      <td>147.360001</td>\n",
              "      <td>64660800</td>\n",
              "    </tr>\n",
              "    <tr>\n",
              "      <th>2021-08-04</th>\n",
              "      <td>147.270004</td>\n",
              "      <td>147.789993</td>\n",
              "      <td>146.279999</td>\n",
              "      <td>146.949997</td>\n",
              "      <td>146.949997</td>\n",
              "      <td>56368300</td>\n",
              "    </tr>\n",
              "    <tr>\n",
              "      <th>2021-08-05</th>\n",
              "      <td>146.979996</td>\n",
              "      <td>147.839996</td>\n",
              "      <td>146.169998</td>\n",
              "      <td>147.059998</td>\n",
              "      <td>147.059998</td>\n",
              "      <td>46343200</td>\n",
              "    </tr>\n",
              "  </tbody>\n",
              "</table>\n",
              "</div>"
            ],
            "text/plain": [
              "                  Open        High  ...   Adj Close     Volume\n",
              "Date                                ...                       \n",
              "2021-07-09  142.750000  145.649994  ...  145.110001   99788400\n",
              "2021-07-12  146.210007  146.320007  ...  144.500000   76299700\n",
              "2021-07-13  144.029999  147.460007  ...  145.639999  100827100\n",
              "2021-07-14  148.100006  149.570007  ...  149.149994  127050800\n",
              "2021-07-15  149.240005  150.000000  ...  148.479996  106820300\n",
              "2021-07-16  148.460007  149.759995  ...  146.389999   93100300\n",
              "2021-07-19  143.750000  144.070007  ...  142.449997  121434600\n",
              "2021-07-20  143.460007  147.100006  ...  146.149994   96350000\n",
              "2021-07-21  145.529999  146.130005  ...  145.399994   74993500\n",
              "2021-07-22  145.940002  148.199997  ...  146.800003   77338200\n",
              "2021-07-23  147.550003  148.720001  ...  148.559998   71447400\n",
              "2021-07-26  148.270004  149.830002  ...  148.990005   72434100\n",
              "2021-07-27  149.119995  149.210007  ...  146.770004  104818600\n",
              "2021-07-28  144.809998  146.970001  ...  144.979996  118931200\n",
              "2021-07-29  144.690002  146.550003  ...  145.639999   56699500\n",
              "2021-07-30  144.380005  146.330002  ...  145.860001   70382000\n",
              "2021-08-02  146.360001  146.949997  ...  145.520004   62880000\n",
              "2021-08-03  145.809998  148.039993  ...  147.360001   64660800\n",
              "2021-08-04  147.270004  147.789993  ...  146.949997   56368300\n",
              "2021-08-05  146.979996  147.839996  ...  147.059998   46343200\n",
              "\n",
              "[20 rows x 6 columns]"
            ]
          },
          "metadata": {
            "tags": []
          },
          "execution_count": 47
        }
      ]
    },
    {
      "cell_type": "markdown",
      "metadata": {
        "id": "X5G3ty82PxNk"
      },
      "source": [
        "$$\\text{Today's stock price} = \\text{yesterday's stock price}\\times e^{r},$$ where $r=\\text{periodic daily return}$. Recall $$S_{t}=S_{t-1}\\times e^{\\left(\\mu-\\frac{1}{2}\\sigma^{2}\\right)t+\\sigma W_{t}},$$ a solution to Geometric Brownian motion."
      ]
    },
    {
      "cell_type": "code",
      "metadata": {
        "colab": {
          "base_uri": "https://localhost:8080/"
        },
        "id": "5LpQxrdSNseF",
        "outputId": "2866a439-2030-47b8-a84c-c03cb364ca65"
      },
      "source": [
        "ticker = 'AAPL'\n",
        "data = pd.DataFrame() # data downloaded will be imported into a pandas dataframe\n",
        "data[ticker] = yf.download(ticker, start)['Adj Close']\n",
        "log_returns = np.log(1 + data.pct_change()) # Standard practice to use log prices\n",
        "u = log_returns.mean() # calculating the mean of the returns, so we can calculate the drift\n",
        "var = log_returns.var()\n",
        "drift = u - (0.5 * var) # calculating the drift.\n",
        "vol = log_returns.std() # calculating volatility i.e. standard deviation in stock prices. Think of it as the frequency of this upward and downward\n",
        "# movement of stock prices\n",
        "print(drift)\n",
        "print(vol)\n",
        "#data[ticker]"
      ],
      "execution_count": null,
      "outputs": [
        {
          "output_type": "stream",
          "text": [
            "\r[*********************100%***********************]  1 of 1 completed\n",
            "AAPL    0.00093\n",
            "dtype: float64\n",
            "AAPL    0.017766\n",
            "dtype: float64\n"
          ],
          "name": "stdout"
        }
      ]
    },
    {
      "cell_type": "markdown",
      "metadata": {
        "id": "eiF4C_TiP0eZ"
      },
      "source": [
        "Recall $$f(t)=\\int_{t}^{T}D(s)e^{\\frac{1}{1-\\gamma}\\nu(s-t)}ds+u_{2}^{\\frac{1}{1-\\gamma}}e^{\\frac{1}{1-\\gamma}\\nu(T-t)},$$ a solution to Bernoulli's class of differential equation found by reducing the HJB partial differential equation into an ODE. Below we define the integral term of that solution and integrate over time horizon $[0,252]$ i.e. 252 days with maturity time $T=252$. Also $$\\nu =r\\gamma-\\rho-\\frac{1}{2}\\frac{(\\mu-r)^{2}}{\\sigma^{2}}\\frac{\\gamma}{\\gamma-1},$$ and $$D(s)=u_{1}^{\\frac{1}{1-\\gamma}}\\left(\\frac{R_{t}^{r}}{R_{t}}\\right)^{\\frac{\\gamma}{\\gamma-1}},$$ where $R_{t}^{r}=e^{-r(T-t)}C$ and $R_{t}=e^{-g(T-t)}C$. "
      ]
    },
    {
      "cell_type": "code",
      "metadata": {
        "colab": {
          "base_uri": "https://localhost:8080/",
          "height": 37
        },
        "id": "1QOsInhLsaf1",
        "outputId": "c8af8005-eed2-41e9-bd72-d12f5839106e"
      },
      "source": [
        "def simply_integration():\n",
        "  q = sy.Symbol('q')\n",
        "  integrand = q ** 4.1\n",
        "  return sy.integrate(integrand, (q, 0, 2))\n",
        "simply_integration()"
      ],
      "execution_count": null,
      "outputs": [
        {
          "output_type": "execute_result",
          "data": {
            "text/latex": "$\\displaystyle 6.72485309826694$",
            "text/plain": [
              "6.72485309826694"
            ]
          },
          "metadata": {
            "tags": []
          },
          "execution_count": 42
        }
      ]
    },
    {
      "cell_type": "code",
      "metadata": {
        "id": "8UbMamQpGHlN"
      },
      "source": [
        "import sympy as sy # A module that helps us perform integrations.\n",
        "# Below we define a function that integrates with respect to 't'\n",
        "def integr():\n",
        "  t = sy.Symbol('t')\n",
        "  gamma = 0.2 # risk aversion coefficient.\n",
        "  risk_free_rate = 0.03 # risk-less asset.\n",
        "  guarantee = 0.02 # contract guaranteed interest rate.\n",
        "  rho = 0.01 # interest rate on future utilities.\n",
        "  vol = 0.017766\n",
        "  drift = 0.00093\n",
        "  mature_cap = 250 # cost of one unit of account incurred by the insurer at maturity.\n",
        "  u2 = 1\n",
        "  u1 = (risk_free_rate - guarantee) / risk_free_rate # weight of profit share\n",
        "  nu = risk_free_rate * gamma - rho - 0.5 * ((drift - risk_free_rate)**2) * ((1/vol)**2) * (gamma/(gamma - 1)) \n",
        "  R = mature_cap * sy.exp(-guarantee * (252- t)) # accounting value provisions.\n",
        "  RR = mature_cap * sy.exp(-risk_free_rate * (252 - t)) # market value provisions.\n",
        "  D = ((u1)**(1/(1 - gamma))) * ((RR/R)**(gamma/(gamma - 1)))\n",
        "  integrand = D * sy.exp((1/(1 - gamma)) * nu * (252 - t))\n",
        "  return sy.integrate(integrand, (t, 0, 252)) # returns integration result, limits of integration are [0, 252]"
      ],
      "execution_count": null,
      "outputs": []
    },
    {
      "cell_type": "markdown",
      "metadata": {
        "id": "wHttrDgZVXDf"
      },
      "source": [
        "Assigning the solution of the definite integration to a variable called **'integrand'**."
      ]
    },
    {
      "cell_type": "code",
      "metadata": {
        "id": "jvxknQ6JT6Fy"
      },
      "source": [
        "y = integr()\n",
        "integrand = y * np.ones(252) # transforming the solution into an array of lenght 365, since we are working with arrays.\n",
        "#integrand\n",
        " "
      ],
      "execution_count": null,
      "outputs": []
    },
    {
      "cell_type": "markdown",
      "metadata": {
        "id": "01vbyUQCdJxs"
      },
      "source": [
        "Below we define a Monte Carlo function that takes as inputs the ticker name of apple stocks and their actual name. We also define our proposed profit sharing scheme;\n",
        "\n",
        "\n",
        "1.   Initial insurer's holding : $(1+3\\%)R_{t}$\n",
        "2.   $V_{n}=-f(t)R_{t}^{r}\\left(X_{t}-n_{t}R_{t}^{r}\\right)^{\\gamma-1}$.\n",
        "\n",
        "\n",
        "3.   Profit sharing: $P_{t}=\\left(-\\frac{V_{n}}{R_{t}}\\frac{1}{u_{1}}\\right)^{\\frac{1}{\\gamma-1}}$.\n",
        "\n",
        "On the same set of axis, we plot the future price per share of risky assets, evolution of provisions (profits are distributed along their lifetime i.e. 252 days).\n",
        "\n",
        "\n",
        "\n"
      ]
    },
    {
      "cell_type": "code",
      "metadata": {
        "id": "XylDwEEZGIZg"
      },
      "source": [
        " \n",
        "def get_simulation(ticker, name):\n",
        "  t = np.linspace(0, 252, 252) # Creates linear space or array of length 365 and 365 steps.\n",
        "  rho = 0.01 # discounting of future utility.\n",
        "  u2 = 1  \n",
        "  gamma = 0.2 # risk aversion parameter\n",
        "  risk_free_rate = 0.03 # riskless asset\n",
        "  guarantee = 0.02 # contract actual guarantee, g < r\n",
        "  u1 = (risk_free_rate - guarantee) / risk_free_rate # weight reflecting contract guarantee, useful in cases of multiple contracts in model.\n",
        "  mature_cap = 250 # obligation of insurer to insured per unit of account in desirable currency.\n",
        "  data = pd.DataFrame() # data downloaded will be imported into a pandas dataframe\n",
        "  data[ticker] = yf.download(ticker, start)['Adj Close'] # we download the adjusted closing price of the stocks.\n",
        "  log_returns = np.log(1 + data.pct_change()) # its standard in finance to use log returns instead of actual returns!\n",
        "  u = log_returns.mean() # calculating the mean of the returns, so we can calculate the drift.\n",
        "  var = log_returns.var() # calculating the variance of the returns.\n",
        "  drift = u - (0.5 * var) # calculating the drift \n",
        "  vol = log_returns.std() # calculating volatility.\n",
        "  t_intervals = 252 # time interval\n",
        "  iterations = 1 # possibilities to be precise. We seek the best possibility.\n",
        "  np.random.seed(200)\n",
        "  daily_returns = np.exp(drift.values + vol.values * norm.ppf(np.random.rand(t_intervals, iterations))) # Black-Scholes equation exponent component\n",
        "  so = data.iloc[-1] # last adjusted closing price is used to initiate simulation i.e. yesterday's stock price.\n",
        "  price_list = np.zeros_like(daily_returns) # initializing structure of prices simulations\n",
        "  price_list[0] = so # defining initial price\n",
        "  phi = risk_free_rate * gamma - rho - 0.5 * ((drift.values - risk_free_rate)**2) * ((1/vol.values)**2) * (gamma/(gamma - 1))\n",
        "  RR = mature_cap * np.exp(-risk_free_rate * (252 - t)) # fair value of provisions without profits\n",
        "  R = mature_cap * np.exp(-guarantee * (252 - t)) # accounting value provisions i.e. premiums\n",
        "  X = (1 + risk_free_rate) * R # initial holdings by the insurance firm\n",
        "  D = ((u1)**(1/(1- gamma))) * ((RR/R)**(gamma/(gamma - 1)))\n",
        "  plus_to_integral = (u2**(1/(1-gamma))) * np.exp((1/(1 - gamma)) * phi * (252 - t))\n",
        "  ft = integrand + plus_to_integral\n",
        "  V = -ft * (np.sign(X - RR) * (np.abs(X - RR)) ** (gamma - 1)) * RR\n",
        "  inside_p = V/(-R * u1) \n",
        "  P = np.sign(inside_p) * np.abs(inside_p) ** (1/(gamma - 1))\n",
        "  with_profits = R + P\n",
        "  fair_with_profits = RR + P\n",
        "  for x in range(1, t_intervals):\n",
        "    price_list[x] = price_list[x - 1] * daily_returns[x]# black scholes \n",
        "     \n",
        "  #plt.title('Monte-Carlo evolution of assets and provisions')\n",
        "  #plt.ylabel('Price per share (USD)')\n",
        "  plt.xlabel('Time (days)')\n",
        "  plt.plot(price_list, 'r', with_profits, 'b--', fair_with_profits, 'g--')\n",
        "  #plt.plot(with_profits)\n",
        "  #plt.plot(provisions)\n",
        "  plt.legend(['AAPL Monte-Carlo simulation', 'Acc. provisions with profits', 'Fair provisions with profits'])\n",
        "  plt.show()\n",
        "  return [np.sum(with_profits), np.sum(fair_with_profits)]"
      ],
      "execution_count": null,
      "outputs": []
    },
    {
      "cell_type": "code",
      "metadata": {
        "colab": {
          "base_uri": "https://localhost:8080/",
          "height": 319
        },
        "id": "P4OQsyQHU1dA",
        "outputId": "1e2163b9-715c-4016-c8ff-7b0af612412c"
      },
      "source": [
        "get_simulation('AAPL', 'apple_stocks')"
      ],
      "execution_count": null,
      "outputs": [
        {
          "output_type": "stream",
          "text": [
            "\r[*********************100%***********************]  1 of 1 completed\n"
          ],
          "name": "stdout"
        },
        {
          "output_type": "display_data",
          "data": {
            "image/png": "[encoded data removed]",
            "text/plain": [
              "<Figure size 432x288 with 1 Axes>"
            ]
          },
          "metadata": {
            "tags": []
          }
        },
        {
          "output_type": "execute_result",
          "data": {
            "text/plain": [
              "[12496.0209241848, 8421.63341106157]"
            ]
          },
          "metadata": {
            "tags": []
          },
          "execution_count": 50
        }
      ]
    },
    {
      "cell_type": "code",
      "metadata": {
        "id": "gAq9w28HK53B"
      },
      "source": [
        ""
      ],
      "execution_count": null,
      "outputs": []
    }
  ]
}